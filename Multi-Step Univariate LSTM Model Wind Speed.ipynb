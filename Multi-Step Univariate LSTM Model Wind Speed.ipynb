{
 "cells": [
  {
   "cell_type": "code",
   "execution_count": 1,
   "id": "a0073519",
   "metadata": {},
   "outputs": [],
   "source": [
    "#Importing Libraries\n",
    "\n",
    "import numpy as np\n",
    "import pandas as pd\n",
    "import matplotlib.pyplot as plt\n",
    "from keras.models import Sequential\n",
    "from keras.layers import Dense\n",
    "from keras.layers import LSTM\n",
    "from keras.layers import ConvLSTM2D\n",
    "from keras.layers import Flatten\n",
    "from numpy import array"
   ]
  },
  {
   "cell_type": "code",
   "execution_count": 2,
   "id": "9e72683a",
   "metadata": {},
   "outputs": [
    {
     "data": {
      "text/html": [
       "<div>\n",
       "<style scoped>\n",
       "    .dataframe tbody tr th:only-of-type {\n",
       "        vertical-align: middle;\n",
       "    }\n",
       "\n",
       "    .dataframe tbody tr th {\n",
       "        vertical-align: top;\n",
       "    }\n",
       "\n",
       "    .dataframe thead th {\n",
       "        text-align: right;\n",
       "    }\n",
       "</style>\n",
       "<table border=\"1\" class=\"dataframe\">\n",
       "  <thead>\n",
       "    <tr style=\"text-align: right;\">\n",
       "      <th></th>\n",
       "      <th>ID</th>\n",
       "      <th>Longitude</th>\n",
       "      <th>Latitude</th>\n",
       "      <th>Speed</th>\n",
       "      <th>Category</th>\n",
       "    </tr>\n",
       "  </thead>\n",
       "  <tbody>\n",
       "    <tr>\n",
       "      <th>0</th>\n",
       "      <td>1</td>\n",
       "      <td>7.7</td>\n",
       "      <td>80.9</td>\n",
       "      <td>20</td>\n",
       "      <td>1</td>\n",
       "    </tr>\n",
       "    <tr>\n",
       "      <th>1</th>\n",
       "      <td>1</td>\n",
       "      <td>8.1</td>\n",
       "      <td>79.9</td>\n",
       "      <td>20</td>\n",
       "      <td>1</td>\n",
       "    </tr>\n",
       "    <tr>\n",
       "      <th>2</th>\n",
       "      <td>1</td>\n",
       "      <td>8.5</td>\n",
       "      <td>78.8</td>\n",
       "      <td>25</td>\n",
       "      <td>1</td>\n",
       "    </tr>\n",
       "    <tr>\n",
       "      <th>3</th>\n",
       "      <td>1</td>\n",
       "      <td>8.8</td>\n",
       "      <td>77.7</td>\n",
       "      <td>25</td>\n",
       "      <td>1</td>\n",
       "    </tr>\n",
       "    <tr>\n",
       "      <th>4</th>\n",
       "      <td>1</td>\n",
       "      <td>9.0</td>\n",
       "      <td>76.6</td>\n",
       "      <td>30</td>\n",
       "      <td>2</td>\n",
       "    </tr>\n",
       "    <tr>\n",
       "      <th>...</th>\n",
       "      <td>...</td>\n",
       "      <td>...</td>\n",
       "      <td>...</td>\n",
       "      <td>...</td>\n",
       "      <td>...</td>\n",
       "    </tr>\n",
       "    <tr>\n",
       "      <th>9360</th>\n",
       "      <td>21</td>\n",
       "      <td>25.9</td>\n",
       "      <td>38.9</td>\n",
       "      <td>35</td>\n",
       "      <td>3</td>\n",
       "    </tr>\n",
       "    <tr>\n",
       "      <th>9361</th>\n",
       "      <td>21</td>\n",
       "      <td>25.9</td>\n",
       "      <td>40.2</td>\n",
       "      <td>35</td>\n",
       "      <td>3</td>\n",
       "    </tr>\n",
       "    <tr>\n",
       "      <th>9362</th>\n",
       "      <td>21</td>\n",
       "      <td>25.5</td>\n",
       "      <td>41.0</td>\n",
       "      <td>35</td>\n",
       "      <td>3</td>\n",
       "    </tr>\n",
       "    <tr>\n",
       "      <th>9363</th>\n",
       "      <td>21</td>\n",
       "      <td>25.1</td>\n",
       "      <td>41.7</td>\n",
       "      <td>30</td>\n",
       "      <td>2</td>\n",
       "    </tr>\n",
       "    <tr>\n",
       "      <th>9364</th>\n",
       "      <td>21</td>\n",
       "      <td>24.6</td>\n",
       "      <td>41.9</td>\n",
       "      <td>25</td>\n",
       "      <td>1</td>\n",
       "    </tr>\n",
       "  </tbody>\n",
       "</table>\n",
       "<p>9365 rows × 5 columns</p>\n",
       "</div>"
      ],
      "text/plain": [
       "      ID  Longitude  Latitude  Speed  Category\n",
       "0      1        7.7      80.9     20         1\n",
       "1      1        8.1      79.9     20         1\n",
       "2      1        8.5      78.8     25         1\n",
       "3      1        8.8      77.7     25         1\n",
       "4      1        9.0      76.6     30         2\n",
       "...   ..        ...       ...    ...       ...\n",
       "9360  21       25.9      38.9     35         3\n",
       "9361  21       25.9      40.2     35         3\n",
       "9362  21       25.5      41.0     35         3\n",
       "9363  21       25.1      41.7     30         2\n",
       "9364  21       24.6      41.9     25         1\n",
       "\n",
       "[9365 rows x 5 columns]"
      ]
     },
     "execution_count": 2,
     "metadata": {},
     "output_type": "execute_result"
    }
   ],
   "source": [
    "#Import Raw Data and convert it to CSV \n",
    "\n",
    "url = \"https://raw.githubusercontent.com/rohitash-chandra/CMTL_dynamictimeseries/master/IndianOcean/rawtrain1985-2001.txt\"\n",
    "df = pd.read_csv(url, sep = \"\\t\", header = None)\n",
    "df.columns = ['ID','Date','Longitude','Latitude','Speed']\n",
    "df['Category'] = df['Speed'].apply(lambda x: 1 if x<=27 else 2  if x<=33 and x> 27 else 3 if x<=47 and x> 33 else 4 if x<=63 and x> 47 else 5 if x<=89 and x> 63 else 6 if x<=119 and x>89 else 7 )\n",
    "df = df.drop(['Date'], axis = 1)\n",
    "df.to_csv('adjusted.csv')\n",
    "df"
   ]
  },
  {
   "cell_type": "code",
   "execution_count": 3,
   "id": "1b8d44ea",
   "metadata": {},
   "outputs": [
    {
     "data": {
      "text/plain": [
       "array([[20],\n",
       "       [20],\n",
       "       [25],\n",
       "       ...,\n",
       "       [35],\n",
       "       [30],\n",
       "       [25]], dtype=int64)"
      ]
     },
     "execution_count": 3,
     "metadata": {},
     "output_type": "execute_result"
    }
   ],
   "source": [
    "# Using a Univariate LSTM, therefore only working with Speed \n",
    "\n",
    "# Extracting speed data from Dataset \n",
    "\n",
    "speed = array(df['Speed'])\n",
    "speed=speed.reshape(len(speed),1)\n",
    "category=array(df['Category'])\n",
    "speed"
   ]
  },
  {
   "cell_type": "code",
   "execution_count": null,
   "id": "82c99c4e",
   "metadata": {},
   "outputs": [],
   "source": []
  },
  {
   "cell_type": "code",
   "execution_count": 4,
   "id": "8815ec60",
   "metadata": {},
   "outputs": [],
   "source": [
    "# Splitting the Sequence To Prepare the Training and Test Data. Data Preprocessing. \n",
    "\n",
    "def split_seq(timeseries_data, n_steps_in, n_steps_out):\n",
    "    X, y =[],[]\n",
    "    for i in range(len(timeseries_data)):\n",
    "        # find the end of this pattern\n",
    "        end_ix = i + n_steps_in\n",
    "        out_end_ix = end_ix+n_steps_out\n",
    "        # check if we are beyond the sequence\n",
    "        if out_end_ix > len(timeseries_data)-1:\n",
    "            break\n",
    "        # gather input and output parts of the pattern\n",
    "        seq_x, seq_y = timeseries_data[i:end_ix], timeseries_data[end_ix:out_end_ix]\n",
    "        X.append(seq_x)\n",
    "        y.append(seq_y)\n",
    "    return np.array(X), np.array(y)"
   ]
  },
  {
   "cell_type": "code",
   "execution_count": 5,
   "id": "ab31380b",
   "metadata": {},
   "outputs": [],
   "source": [
    "# Initialising Features of LSTM \n",
    "\n",
    "n_steps_in=4\n",
    "n_features = 1\n",
    "n_steps_out=2"
   ]
  },
  {
   "cell_type": "code",
   "execution_count": 6,
   "id": "a1e80ee6",
   "metadata": {},
   "outputs": [],
   "source": [
    "# Defining RMSE Function to test Performance\n",
    "\n",
    "def rmse(pred, actual):\n",
    "    temp = np.sqrt(((pred-actual)**2).mean())\n",
    "    return temp"
   ]
  },
  {
   "cell_type": "code",
   "execution_count": 7,
   "id": "19a56a69",
   "metadata": {},
   "outputs": [
    {
     "name": "stdout",
     "output_type": "stream",
     "text": [
      "(8994, 4, 1)\n",
      "(358, 4, 1)\n",
      "(8994, 2)\n",
      "(358, 2)\n"
     ]
    }
   ],
   "source": [
    "# From Speed DataFrame, Separate and Prepare (Split and make 3D) Test and Train Data \n",
    "\n",
    "train = speed[0:9000]\n",
    "test = speed[9000:9364]\n",
    "\n",
    "x_train, y_train = split_seq(train, n_steps_in,n_steps_out)\n",
    "x_test, y_test = split_seq(test, n_steps_in,n_steps_out)\n",
    "\n",
    "\n",
    "x_train = x_train.reshape((x_train.shape[0], x_train.shape[1], n_features))\n",
    "print(x_train.shape)\n",
    "\n",
    "x_test = x_test.reshape((x_test.shape[0], x_test.shape[1], n_features))\n",
    "print(x_test.shape)\n",
    "\n",
    "y_train = y_train.reshape((y_train.shape[0], y_train.shape[1]))\n",
    "print(y_train.shape)\n",
    "\n",
    "y_test = y_test.reshape((y_test.shape[0], y_test.shape[1]))\n",
    "print(y_test.shape)"
   ]
  },
  {
   "cell_type": "code",
   "execution_count": 8,
   "id": "9bc94b72",
   "metadata": {},
   "outputs": [
    {
     "name": "stdout",
     "output_type": "stream",
     "text": [
      "Model: \"sequential\"\n",
      "_________________________________________________________________\n",
      "Layer (type)                 Output Shape              Param #   \n",
      "=================================================================\n",
      "lstm (LSTM)                  (None, 4, 50)             10400     \n",
      "_________________________________________________________________\n",
      "lstm_1 (LSTM)                (None, 100)               60400     \n",
      "_________________________________________________________________\n",
      "dense (Dense)                (None, 2)                 202       \n",
      "=================================================================\n",
      "Total params: 71,002\n",
      "Trainable params: 71,002\n",
      "Non-trainable params: 0\n",
      "_________________________________________________________________\n"
     ]
    }
   ],
   "source": [
    "# Defining and Fitting the Conv LSTM Network \n",
    "\n",
    "#Define the Model\n",
    "model=Sequential()\n",
    "model.add(LSTM(50, activation='relu', return_sequences=True, input_shape=(n_steps_in, n_features)))\n",
    "model.add(LSTM(100, activation='relu'))\n",
    "model.add(Dense(n_steps_out))\n",
    "model.compile(optimizer='adam', loss='mse')\n",
    "model.summary()\n",
    "\n",
    "#Fit the Model \n",
    "model.fit(x_train,y_train,epochs=100,verbose=0)\n",
    "\n",
    "#Predict with the Fitted Model \n",
    "y_train_predicted=model.predict(x_train)\n",
    "y_test_predicted=model.predict(x_test)\n",
    "\n",
    "\n",
    "\n",
    "#Check RMSE\n",
    "train_acc=rmse(y_train_predicted,y_train)\n",
    "test_acc=rmse(y_test_predicted,y_test)"
   ]
  },
  {
   "cell_type": "code",
   "execution_count": 9,
   "id": "098c28f5",
   "metadata": {},
   "outputs": [
    {
     "name": "stdout",
     "output_type": "stream",
     "text": [
      "5.853795038296876 is the RMSE for the Train Data\n",
      "5.82241955685324 is the RMSE for the Test Data\n"
     ]
    }
   ],
   "source": [
    "#Displaying Train and Test Accuracies \n",
    "\n",
    "print(train_acc, 'is the RMSE for the Train Data') \n",
    "print(test_acc, 'is the RMSE for the Test Data')"
   ]
  },
  {
   "cell_type": "code",
   "execution_count": null,
   "id": "c4020dc8",
   "metadata": {},
   "outputs": [],
   "source": []
  }
 ],
 "metadata": {
  "kernelspec": {
   "display_name": "Python 3",
   "language": "python",
   "name": "python3"
  },
  "language_info": {
   "codemirror_mode": {
    "name": "ipython",
    "version": 3
   },
   "file_extension": ".py",
   "mimetype": "text/x-python",
   "name": "python",
   "nbconvert_exporter": "python",
   "pygments_lexer": "ipython3",
   "version": "3.8.5"
  }
 },
 "nbformat": 4,
 "nbformat_minor": 5
}
