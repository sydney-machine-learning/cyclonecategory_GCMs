{
 "cells": [
  {
   "cell_type": "code",
   "execution_count": 19,
   "id": "cb4bb8ab",
   "metadata": {},
   "outputs": [],
   "source": [
    "#Importing Libraries\n",
    "\n",
    "import numpy as np\n",
    "import pandas as pd\n",
    "import matplotlib.pyplot as plt\n",
    "from keras.models import Sequential\n",
    "from keras.layers import Dense\n",
    "from keras.layers import LSTM\n",
    "from keras.layers import ConvLSTM2D\n",
    "from keras.layers import Flatten\n",
    "from numpy import array"
   ]
  },
  {
   "cell_type": "code",
   "execution_count": 20,
   "id": "3dac8f10",
   "metadata": {},
   "outputs": [],
   "source": [
    "#Import Raw Data and convert it to CSV \n",
    "\n",
    "url = \"https://raw.githubusercontent.com/rohitash-chandra/CMTL_dynamictimeseries/master/IndianOcean/rawtrain1985-2001.txt\"\n",
    "df = pd.read_csv(url, sep = \"\\t\", header = None)\n",
    "df.columns = ['id','date','longitude','latitude','speed']\n",
    "df = df.drop(['date'], axis = 1)\n",
    "df.to_csv('adjusted.csv')\n"
   ]
  },
  {
   "cell_type": "code",
   "execution_count": 21,
   "id": "7e26f81c",
   "metadata": {},
   "outputs": [
    {
     "data": {
      "text/plain": [
       "array([[20],\n",
       "       [20],\n",
       "       [25],\n",
       "       ...,\n",
       "       [35],\n",
       "       [30],\n",
       "       [25]], dtype=int64)"
      ]
     },
     "execution_count": 21,
     "metadata": {},
     "output_type": "execute_result"
    }
   ],
   "source": [
    "# Using a Univariate LSTM, therefore only working with Speed \n",
    "\n",
    "# Extracting speed data from Dataset \n",
    "\n",
    "speed = array(df['speed'])\n",
    "speed = speed.reshape((len(speed), 1))\n",
    "speed"
   ]
  },
  {
   "cell_type": "code",
   "execution_count": 22,
   "id": "aed5e8b1",
   "metadata": {},
   "outputs": [],
   "source": [
    "# Splitting the Sequence To Prepare the Training and Test Data. Data Preprocessing. \n",
    "\n",
    "def split_seq(timeseries_data, n_steps):\n",
    "    X, y =[],[]\n",
    "    for i in range(len(timeseries_data)):\n",
    "        # find the end of this pattern\n",
    "        end_ix = i + n_steps\n",
    "        # check if we are beyond the sequence\n",
    "        if end_ix > len(timeseries_data)-1:\n",
    "            break\n",
    "        # gather input and output parts of the pattern\n",
    "        seq_x, seq_y = timeseries_data[i:end_ix], timeseries_data[end_ix]\n",
    "        X.append(seq_x)\n",
    "        y.append(seq_y)\n",
    "    return np.array(X), np.array(y)"
   ]
  },
  {
   "cell_type": "code",
   "execution_count": 23,
   "id": "1aa23eb2",
   "metadata": {},
   "outputs": [],
   "source": [
    "# Defining RMSE Function to test Performance\n",
    "\n",
    "def rmse(pred, actual):\n",
    "    temp = np.sqrt(((pred-actual)**2).mean())\n",
    "    return temp"
   ]
  },
  {
   "cell_type": "code",
   "execution_count": 24,
   "id": "30811dcf",
   "metadata": {},
   "outputs": [],
   "source": [
    "# Initialising Features of LSTM \n",
    "\n",
    "n_steps=4\n",
    "n_features = 1\n",
    "\n"
   ]
  },
  {
   "cell_type": "code",
   "execution_count": 25,
   "id": "b6364804",
   "metadata": {},
   "outputs": [
    {
     "name": "stdout",
     "output_type": "stream",
     "text": [
      "(8996, 4, 1)\n",
      "(360, 4, 1)\n",
      "(8996, 1, 1)\n",
      "(360, 1, 1)\n"
     ]
    }
   ],
   "source": [
    "# From Speed DataFrame, Separate and Prepare (Split and make 3D) Test and Train Data \n",
    "\n",
    "train = speed[0:9000]\n",
    "test = speed[9000:9364]\n",
    "\n",
    "x_train, y_train = split_seq(train, n_steps)\n",
    "x_test, y_test = split_seq(test, n_steps)\n",
    "\n",
    "\n",
    "x_train = x_train.reshape((x_train.shape[0], x_train.shape[1], n_features))\n",
    "print(x_train.shape)\n",
    "\n",
    "x_test = x_test.reshape((x_test.shape[0], x_test.shape[1], n_features))\n",
    "print(x_test.shape)\n",
    "\n",
    "y_train = y_train.reshape((y_train.shape[0], y_train.shape[1], n_features))\n",
    "print(y_train.shape)\n",
    "\n",
    "y_test = y_test.reshape((y_test.shape[0], y_test.shape[1], n_features))\n",
    "print(y_test.shape)"
   ]
  },
  {
   "cell_type": "code",
   "execution_count": 26,
   "id": "d6adf626",
   "metadata": {},
   "outputs": [
    {
     "name": "stdout",
     "output_type": "stream",
     "text": [
      "Model: \"sequential_4\"\n",
      "_________________________________________________________________\n",
      "Layer (type)                 Output Shape              Param #   \n",
      "=================================================================\n",
      "lstm_3 (LSTM)                (None, 50)                10400     \n",
      "_________________________________________________________________\n",
      "dense_4 (Dense)              (None, 1)                 51        \n",
      "=================================================================\n",
      "Total params: 10,451\n",
      "Trainable params: 10,451\n",
      "Non-trainable params: 0\n",
      "_________________________________________________________________\n"
     ]
    }
   ],
   "source": [
    "# Defining and Fitting the Conv LSTM Network \n",
    "\n",
    "#Define the Model\n",
    "model=Sequential()\n",
    "model.add(LSTM(50, activation='relu', input_shape=(n_steps, n_features)))\n",
    "model.add(Dense(1))\n",
    "model.compile(optimizer='adam', loss='mse')\n",
    "model.summary()\n",
    "\n",
    "#Fit the Model \n",
    "model.fit(x_train,y_train,epochs=100,verbose=0)\n",
    "\n",
    "#Predict with the Fitted Model \n",
    "y_train_predicted=model.predict(x_train)\n",
    "y_test_predicted=model.predict(x_test)\n",
    "\n",
    "#Check RMSE\n",
    "train_acc=rmse(y_train_predicted,y_train)\n",
    "test_acc=rmse(y_test_predicted,y_test)\n"
   ]
  },
  {
   "cell_type": "code",
   "execution_count": 28,
   "id": "60cd51e9",
   "metadata": {},
   "outputs": [
    {
     "name": "stdout",
     "output_type": "stream",
     "text": [
      "36.538490402665985 is the RMSE for the Train Data\n",
      "36.9689885445247 is the RMSE for the Test Data\n"
     ]
    }
   ],
   "source": [
    "#Displaying Train and Test Accuracies \n",
    "\n",
    "print(train_acc, 'is the RMSE for the Train Data') \n",
    "print(test_acc, 'is the RMSE for the Test Data')"
   ]
  },
  {
   "cell_type": "code",
   "execution_count": null,
   "id": "51cd8675",
   "metadata": {},
   "outputs": [],
   "source": []
  }
 ],
 "metadata": {
  "kernelspec": {
   "display_name": "Python 3",
   "language": "python",
   "name": "python3"
  },
  "language_info": {
   "codemirror_mode": {
    "name": "ipython",
    "version": 3
   },
   "file_extension": ".py",
   "mimetype": "text/x-python",
   "name": "python",
   "nbconvert_exporter": "python",
   "pygments_lexer": "ipython3",
   "version": "3.8.5"
  }
 },
 "nbformat": 4,
 "nbformat_minor": 5
}
