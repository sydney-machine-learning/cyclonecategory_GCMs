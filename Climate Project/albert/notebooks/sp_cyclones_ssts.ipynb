{
 "cells": [
  {
   "attachments": {},
   "cell_type": "markdown",
   "metadata": {},
   "source": [
    "# Tropical cyclones and sea surface temperatures: A preliminary analysis\n",
    "\n",
    "Modelling studies performed by Revell and Goulter (1986) and Nicholls (1990) suggest a strong relationship between the ENSO phase and \n",
    "tropical cyclone occurrence and genesis sites. This notebook will seek to analyse this relationship by linking our sea surface temperature and cyclone occurrence datasets "
   ]
  },
  {
   "cell_type": "code",
   "execution_count": 1,
   "metadata": {},
   "outputs": [],
   "source": [
    "# %matplotlib inline\n",
    "import numpy as np\n",
    "import pandas as pd\n",
    "from datetime import datetime \n",
    "import seaborn as sns\n",
    "from matplotlib import pyplot as plt\n",
    "import xarray as xr\n",
    "from netCDF4 import Dataset\n",
    "\n",
    "import cartopy.crs as ccrs\n",
    "import cartopy.io.shapereader as shpreader"
   ]
  },
  {
   "cell_type": "code",
   "execution_count": 2,
   "metadata": {},
   "outputs": [],
   "source": [
    "cyclones_df = pd.read_csv('../cyclone_data/with_ids_full.csv')\n",
    "si_ssts = xr.open_dataset('../SST_data/Historical/si_sst.nc', engine=\"netcdf4\")\n",
    "sp_ssts = xr.open_dataset('../SST_data/Historical/sp_sst.nc', engine=\"netcdf4\")"
   ]
  }
 ],
 "metadata": {
  "kernelspec": {
   "display_name": "climateProjectEnv",
   "language": "python",
   "name": "python3"
  },
  "language_info": {
   "codemirror_mode": {
    "name": "ipython",
    "version": 3
   },
   "file_extension": ".py",
   "mimetype": "text/x-python",
   "name": "python",
   "nbconvert_exporter": "python",
   "pygments_lexer": "ipython3",
   "version": "3.11.0"
  },
  "orig_nbformat": 4
 },
 "nbformat": 4,
 "nbformat_minor": 2
}
