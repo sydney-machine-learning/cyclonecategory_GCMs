{
 "cells": [
  {
   "cell_type": "code",
   "execution_count": 38,
   "id": "6b06729c",
   "metadata": {},
   "outputs": [],
   "source": [
    "#Importing Libraries\n",
    "\n",
    "import numpy as np\n",
    "import pandas as pd\n",
    "import matplotlib.pyplot as plt\n",
    "from keras.models import Sequential\n",
    "from keras.layers import Dense\n",
    "from keras.layers import LSTM\n",
    "from keras.layers import ConvLSTM2D\n",
    "from keras.layers import Flatten\n",
    "from numpy import array"
   ]
  },
  {
   "cell_type": "code",
   "execution_count": 102,
   "id": "8946a9f1",
   "metadata": {},
   "outputs": [],
   "source": [
    "#Import Raw Data and convert it to CSV \n",
    "\n",
    "url = \"https://raw.githubusercontent.com/rohitash-chandra/CMTL_dynamictimeseries/master/IndianOcean/rawtrain1985-2001.txt\"\n",
    "df = pd.read_csv(url, sep = \"\\t\", header = None)\n",
    "df.columns = ['ID','Date','Longitude','Latitude','Speed']\n",
    "df['Category'] = df['Speed'].apply(lambda x: 1 if x<=27 else 2  if x<=33 and x> 27 else 3 if x<=47 and x> 33 else 4 if x<=63 and x> 47 else 5 if x<=89 and x> 63 else 6 if x<=119 and x>89 else 7 )\n",
    "df = df.drop(['Date'], axis = 1)\n",
    "df.to_csv('adjusted.csv')\n",
    "\n"
   ]
  },
  {
   "cell_type": "code",
   "execution_count": 62,
   "id": "c110d851",
   "metadata": {
    "scrolled": true
   },
   "outputs": [
    {
     "data": {
      "text/plain": [
       "array([[20],\n",
       "       [20],\n",
       "       [25],\n",
       "       ...,\n",
       "       [35],\n",
       "       [30],\n",
       "       [25]], dtype=int64)"
      ]
     },
     "execution_count": 62,
     "metadata": {},
     "output_type": "execute_result"
    }
   ],
   "source": [
    "# Using a Univariate LSTM, therefore only working with Speed \n",
    "\n",
    "# Extracting speed data from Dataset \n",
    "\n",
    "speed = array(df['Speed'])\n",
    "speed=speed.reshape(len(speed),1)\n",
    "category=array(df['Category'])\n",
    "speed"
   ]
  },
  {
   "cell_type": "code",
   "execution_count": 67,
   "id": "940a1595",
   "metadata": {},
   "outputs": [],
   "source": [
    "def cat_calc(tsd): \n",
    "    output=np.empty(len(tsd))\n",
    "    for i in range(len(tsd)):\n",
    "        if tsd[i]<=27:\n",
    "            output[i]=1\n",
    "        elif tsd[i]>27 and tsd[i]<=33:\n",
    "            output[i]=2\n",
    "        elif tsd[i]>33 and tsd[i]<=47:\n",
    "            output[i]=3\n",
    "        elif tsd[i]>47 and tsd[i]<=63:\n",
    "            output[i]=4\n",
    "        elif tsd[i]>63 and tsd[i]<=89:\n",
    "            output[i]=5\n",
    "        elif tsd[i]>89 and tsd[i]<=119:\n",
    "            output[i]=6\n",
    "        else:\n",
    "            output[i]=7\n",
    "    return output"
   ]
  },
  {
   "cell_type": "code",
   "execution_count": null,
   "id": "cbe45096",
   "metadata": {},
   "outputs": [],
   "source": []
  },
  {
   "cell_type": "code",
   "execution_count": 70,
   "id": "fea578a1",
   "metadata": {},
   "outputs": [],
   "source": [
    "# Splitting the Sequence To Prepare the Training and Test Data. Data Preprocessing. \n",
    "\n",
    "def split_seq(timeseries_data, n_steps_in, n_steps_out):\n",
    "    X, y =[],[]\n",
    "    for i in range(len(timeseries_data)):\n",
    "        # find the end of this pattern\n",
    "        end_ix = i + n_steps_in\n",
    "        out_end_ix = end_ix+n_steps_out\n",
    "        # check if we are beyond the sequence\n",
    "        if out_end_ix > len(timeseries_data)-1:\n",
    "            break\n",
    "        # gather input and output parts of the pattern\n",
    "        seq_x, seq_y = timeseries_data[i:end_ix], timeseries_data[end_ix:out_end_ix]\n",
    "        X.append(seq_x)\n",
    "        y.append(seq_y)\n",
    "    return np.array(X), np.array(y)"
   ]
  },
  {
   "cell_type": "code",
   "execution_count": 78,
   "id": "3c68d224",
   "metadata": {},
   "outputs": [],
   "source": [
    "# Initialising Features of LSTM \n",
    "\n",
    "n_steps_in=4\n",
    "n_features = 1\n",
    "n_steps_out=1"
   ]
  },
  {
   "cell_type": "code",
   "execution_count": 79,
   "id": "45bff1e0",
   "metadata": {},
   "outputs": [],
   "source": [
    "# Defining RMSE Function to test Performance\n",
    "\n",
    "def rmse(pred, actual):\n",
    "    temp = np.sqrt(((pred-actual)**2).mean())\n",
    "    return temp"
   ]
  },
  {
   "cell_type": "code",
   "execution_count": 80,
   "id": "7aa3fc06",
   "metadata": {},
   "outputs": [
    {
     "name": "stdout",
     "output_type": "stream",
     "text": [
      "(8995, 4, 1)\n",
      "(359, 4, 1)\n",
      "(8995, 1)\n",
      "(359, 1)\n"
     ]
    }
   ],
   "source": [
    "# From Speed DataFrame, Separate and Prepare (Split and make 3D) Test and Train Data \n",
    "\n",
    "train = speed[0:9000]\n",
    "test = speed[9000:9364]\n",
    "\n",
    "x_train, y_train = split_seq(train, n_steps_in,n_steps_out)\n",
    "x_test, y_test = split_seq(test, n_steps_in,n_steps_out)\n",
    "\n",
    "\n",
    "x_train = x_train.reshape((x_train.shape[0], x_train.shape[1], n_features))\n",
    "print(x_train.shape)\n",
    "\n",
    "x_test = x_test.reshape((x_test.shape[0], x_test.shape[1], n_features))\n",
    "print(x_test.shape)\n",
    "\n",
    "y_train = y_train.reshape((y_train.shape[0], y_train.shape[1]))\n",
    "print(y_train.shape)\n",
    "\n",
    "y_test = y_test.reshape((y_test.shape[0], y_test.shape[1]))\n",
    "print(y_test.shape)"
   ]
  },
  {
   "cell_type": "code",
   "execution_count": 84,
   "id": "c2cbf534",
   "metadata": {},
   "outputs": [
    {
     "name": "stdout",
     "output_type": "stream",
     "text": [
      "Model: \"sequential_10\"\n",
      "_________________________________________________________________\n",
      "Layer (type)                 Output Shape              Param #   \n",
      "=================================================================\n",
      "lstm_20 (LSTM)               (None, 4, 50)             10400     \n",
      "_________________________________________________________________\n",
      "lstm_21 (LSTM)               (None, 100)               60400     \n",
      "_________________________________________________________________\n",
      "dense_10 (Dense)             (None, 1)                 101       \n",
      "=================================================================\n",
      "Total params: 70,901\n",
      "Trainable params: 70,901\n",
      "Non-trainable params: 0\n",
      "_________________________________________________________________\n"
     ]
    }
   ],
   "source": [
    "# Defining and Fitting the Conv LSTM Network \n",
    "\n",
    "#Define the Model\n",
    "model=Sequential()\n",
    "model.add(LSTM(50, activation='relu', return_sequences=True, input_shape=(n_steps_in, n_features)))\n",
    "model.add(LSTM(100, activation='relu'))\n",
    "model.add(Dense(n_steps_out))\n",
    "model.compile(optimizer='adam', loss='mse')\n",
    "model.summary()\n",
    "\n",
    "#Fit the Model \n",
    "model.fit(x_train,y_train,epochs=100,verbose=0)\n",
    "\n",
    "#Predict with the Fitted Model \n",
    "y_train_predicted=model.predict(x_train)\n",
    "y_test_predicted=model.predict(x_test)\n",
    "\n",
    "#Calculate the Categories for Train \n",
    "actual_cat_train=cat_calc(speed[0:8995])\n",
    "predicted_cat_train=cat_calc(y_train_predicted)\n",
    "\n",
    "#Calculate the Categories for Test\n",
    "actual_cat_test=cat_calc(speed[9005:9364])\n",
    "predicted_cat_test=cat_calc(y_test_predicted)\n",
    "\n",
    "#Check RMSE\n",
    "train_acc=rmse(predicted_cat_train,actual_cat_train)\n",
    "test_acc=rmse(predicted_cat_test,actual_cat_test)\n"
   ]
  },
  {
   "cell_type": "code",
   "execution_count": 85,
   "id": "667bad2c",
   "metadata": {},
   "outputs": [
    {
     "name": "stdout",
     "output_type": "stream",
     "text": [
      "1.1352652228361493 is the RMSE for the Train Data\n",
      "0.7738771180697012 is the RMSE for the Test Data\n"
     ]
    }
   ],
   "source": [
    "#Displaying Train and Test Accuracies \n",
    "\n",
    "print(train_acc, 'is the RMSE for the Train Data') \n",
    "print(test_acc, 'is the RMSE for the Test Data')"
   ]
  },
  {
   "cell_type": "code",
   "execution_count": 101,
   "id": "44534a9d",
   "metadata": {},
   "outputs": [
    {
     "data": {
      "text/plain": [
       "<matplotlib.legend.Legend at 0x2c8b149a9a0>"
      ]
     },
     "execution_count": 101,
     "metadata": {},
     "output_type": "execute_result"
    },
    {
     "data": {
      "image/png": "[encoded data removed]",
      "text/plain": [
       "<Figure size 432x288 with 1 Axes>"
      ]
     },
     "metadata": {
      "needs_background": "light"
     },
     "output_type": "display_data"
    }
   ],
   "source": [
    "#Plot the Test Predictions\n",
    "\n",
    "xi = list(range(len(actual_cat_test)))\n",
    "plt.plot(xi,actual_cat_test, label='Actual Category')\n",
    "plt.plot(xi,predicted_cat_test, label='Predicted Category')\n",
    "plt.title('compare')\n",
    "plt.legend() "
   ]
  },
  {
   "cell_type": "code",
   "execution_count": null,
   "id": "dc69d5d2",
   "metadata": {},
   "outputs": [],
   "source": []
  },
  {
   "cell_type": "code",
   "execution_count": null,
   "id": "3b1e6dee",
   "metadata": {},
   "outputs": [],
   "source": []
  }
 ],
 "metadata": {
  "kernelspec": {
   "display_name": "Python 3",
   "language": "python",
   "name": "python3"
  },
  "language_info": {
   "codemirror_mode": {
    "name": "ipython",
    "version": 3
   },
   "file_extension": ".py",
   "mimetype": "text/x-python",
   "name": "python",
   "nbconvert_exporter": "python",
   "pygments_lexer": "ipython3",
   "version": "3.8.5"
  }
 },
 "nbformat": 4,
 "nbformat_minor": 5
}
